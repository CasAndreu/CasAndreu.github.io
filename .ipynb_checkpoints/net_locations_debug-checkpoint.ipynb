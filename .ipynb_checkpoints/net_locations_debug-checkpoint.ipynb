{
 "cells": [
  {
   "cell_type": "code",
   "execution_count": 90,
   "metadata": {
    "collapsed": false
   },
   "outputs": [
    {
     "name": "stdout",
     "output_type": "stream",
     "text": [
      "[1] \"Using direct authentication\"\n"
     ]
    }
   ],
   "source": [
    "# set wd, load in OAuth, load packages\n",
    "setwd(\"~/Dropbox/PhD/Data/US_Placenames/network_approach/\")\n",
    "source(\"authentication/load_oauth.R\")\n",
    "library(geonames)\n",
    "library(twitteR)\n",
    "library(stringi)\n",
    "library(ggplot2)\n",
    "library(fossil)\n",
    "library(geosphere)"
   ]
  },
  {
   "cell_type": "code",
   "execution_count": 2,
   "metadata": {
    "collapsed": false,
    "scrolled": true
   },
   "outputs": [],
   "source": [
    "# read in match_freq data frame and the .Rdata lists containing twitter IDs for the network\n",
    "match_frequencies.df <- read.csv(file = \"matches_out/iteration0010.csv\", stringsAsFactors = FALSE)\n",
    "load(\"matches_out/matches0010.Rdata\")"
   ]
  },
  {
   "cell_type": "code",
   "execution_count": 109,
   "metadata": {
    "collapsed": false
   },
   "outputs": [
    {
     "data": {
      "text/html": [
       "<table>\n",
       "<thead><tr><th scope=col>X</th><th scope=col>ID</th><th scope=col>handle</th><th scope=col>match_freq</th><th scope=col>start_time</th><th scope=col>end_time</th></tr></thead>\n",
       "<tbody>\n",
       "\t<tr><td> 1             </td><td> 184           </td><td>framboyanenflor</td><td>  455          </td><td>12-03-05       </td><td>12-03-06       </td></tr>\n",
       "\t<tr><td> 2             </td><td>1004           </td><td>e_haggs_       </td><td>  610          </td><td>12-03-06       </td><td>12-03-07       </td></tr>\n",
       "\t<tr><td> 3             </td><td> 982           </td><td>jonathoncasalou</td><td>  473          </td><td>12-03-07       </td><td>12-03-08       </td></tr>\n",
       "\t<tr><td> 4             </td><td>1612           </td><td>XavierFaura    </td><td>   85          </td><td>12-03-08       </td><td>12-03-09       </td></tr>\n",
       "\t<tr><td> 5             </td><td>1386           </td><td>Giroudaholic   </td><td>  412          </td><td>12-03-09       </td><td>12-03-10       </td></tr>\n",
       "\t<tr><td> 6             </td><td>1030           </td><td>alisoneroman   </td><td>  290          </td><td>12-03-10       </td><td>12-03-11       </td></tr>\n",
       "\t<tr><td> 7             </td><td>  16           </td><td>ResortsWorldNYC</td><td> 1791          </td><td>12-03-11       </td><td>12-03-13       </td></tr>\n",
       "\t<tr><td> 8             </td><td> 374           </td><td>karla_linthicum</td><td>  322          </td><td>12-03-13       </td><td>12-03-14       </td></tr>\n",
       "\t<tr><td> 9             </td><td>1070           </td><td>JeanAtVGNP     </td><td>  203          </td><td>12-19-42       </td><td>12-19-43       </td></tr>\n",
       "\t<tr><td>10             </td><td> 825           </td><td>joolsmagools   </td><td>10809          </td><td>12-19-43       </td><td>12-19-44       </td></tr>\n",
       "</tbody>\n",
       "</table>\n"
      ],
      "text/latex": [
       "\\begin{tabular}{r|llllll}\n",
       " X & ID & handle & match\\_freq & start\\_time & end\\_time\\\\\n",
       "\\hline\n",
       "\t  1              &  184            & framboyanenflor &   455           & 12-03-05        & 12-03-06       \\\\\n",
       "\t  2                  & 1004                & e\\_haggs\\_        &   610               & 12-03-06            & 12-03-07           \\\\\n",
       "\t  3              &  982            & jonathoncasalou &   473           & 12-03-07        & 12-03-08       \\\\\n",
       "\t  4              & 1612            & XavierFaura     &    85           & 12-03-08        & 12-03-09       \\\\\n",
       "\t  5              & 1386            & Giroudaholic    &   412           & 12-03-09        & 12-03-10       \\\\\n",
       "\t  6              & 1030            & alisoneroman    &   290           & 12-03-10        & 12-03-11       \\\\\n",
       "\t  7              &   16            & ResortsWorldNYC &  1791           & 12-03-11        & 12-03-13       \\\\\n",
       "\t  8                &  374              & karla\\_linthicum &   322             & 12-03-13          & 12-03-14         \\\\\n",
       "\t  9              & 1070            & JeanAtVGNP      &   203           & 12-19-42        & 12-19-43       \\\\\n",
       "\t 10              &  825            & joolsmagools    & 10809           & 12-19-43        & 12-19-44       \\\\\n",
       "\\end{tabular}\n"
      ],
      "text/markdown": [
       "\n",
       "X | ID | handle | match_freq | start_time | end_time | \n",
       "|---|---|---|---|---|---|---|---|---|---|\n",
       "|  1              |  184            | framboyanenflor |   455           | 12-03-05        | 12-03-06        | \n",
       "|  2              | 1004            | e_haggs_        |   610           | 12-03-06        | 12-03-07        | \n",
       "|  3              |  982            | jonathoncasalou |   473           | 12-03-07        | 12-03-08        | \n",
       "|  4              | 1612            | XavierFaura     |    85           | 12-03-08        | 12-03-09        | \n",
       "|  5              | 1386            | Giroudaholic    |   412           | 12-03-09        | 12-03-10        | \n",
       "|  6              | 1030            | alisoneroman    |   290           | 12-03-10        | 12-03-11        | \n",
       "|  7              |   16            | ResortsWorldNYC |  1791           | 12-03-11        | 12-03-13        | \n",
       "|  8              |  374            | karla_linthicum |   322           | 12-03-13        | 12-03-14        | \n",
       "|  9              | 1070            | JeanAtVGNP      |   203           | 12-19-42        | 12-19-43        | \n",
       "| 10              |  825            | joolsmagools    | 10809           | 12-19-43        | 12-19-44        | \n",
       "\n",
       "\n"
      ],
      "text/plain": [
       "   X  ID   handle          match_freq start_time end_time\n",
       "1   1  184 framboyanenflor   455      12-03-05   12-03-06\n",
       "2   2 1004 e_haggs_          610      12-03-06   12-03-07\n",
       "3   3  982 jonathoncasalou   473      12-03-07   12-03-08\n",
       "4   4 1612 XavierFaura        85      12-03-08   12-03-09\n",
       "5   5 1386 Giroudaholic      412      12-03-09   12-03-10\n",
       "6   6 1030 alisoneroman      290      12-03-10   12-03-11\n",
       "7   7   16 ResortsWorldNYC  1791      12-03-11   12-03-13\n",
       "8   8  374 karla_linthicum   322      12-03-13   12-03-14\n",
       "9   9 1070 JeanAtVGNP        203      12-19-42   12-19-43\n",
       "10 10  825 joolsmagools    10809      12-19-43   12-19-44"
      ]
     },
     "metadata": {},
     "output_type": "display_data"
    }
   ],
   "source": [
    "match_frequencies.df"
   ]
  },
  {
   "cell_type": "code",
   "execution_count": 3,
   "metadata": {
    "collapsed": true
   },
   "outputs": [],
   "source": [
    "# shortcut function that shows the remaining API limits for the essential queries\n",
    "getRelevantLimits <- function(){\n",
    "      rate_limits.df <- getCurRateLimitInfo()\n",
    "      rate_limits.df[c(11, 26, 27, 33, 35, 36, 55, 58),]\n",
    "}"
   ]
  },
  {
   "cell_type": "code",
   "execution_count": 4,
   "metadata": {
    "collapsed": false
   },
   "outputs": [],
   "source": [
    "# NEW? FUNCTION - \"getLocation(tweeter)\"\n",
    "# matches.ls[i] contains all the IDs for every single user in user i's network\n",
    "# match_frequencies[i]\n",
    "\n",
    "getLocation <- function(tweeter){\n",
    "  try(user <- getUser(tweeter))\n",
    "  if(!exists(\"user\", mode = \"S4\")){\n",
    "      tweeter_location <- \"no_location_no_tweeter\" # to be able to distinguish b/w inactive IDs and no-locs\n",
    "  } else {\n",
    "      tweeter_location <- user$getLocation()\n",
    "  }\n",
    "  if(tweeter_location==\"\"){\n",
    "      tweeter_location <- \"no_location\"\n",
    "  }\n",
    "    rm(user)\n",
    "    return(tweeter_location)\n",
    "}\n",
    "\n",
    "# HOWEVER --> this function is only for one individual tweeter!\n",
    "# so there has to be a nested loop which \n",
    "# A) converts each individual element of the matches.ls list recursively\n",
    "# B) runs through every element in such a vector"
   ]
  },
  {
   "cell_type": "code",
   "execution_count": 5,
   "metadata": {
    "collapsed": true
   },
   "outputs": [],
   "source": [
    "# API CHECKING FUNCTION\n",
    "\n",
    "apiCheckLocs <- function(network_IDs){\n",
    "  rate_limits.df <- getCurRateLimitInfo()\n",
    "  lookup_api <- as.numeric(rate_limits.df$remaining[26])\n",
    "  if(lookup_api<length(network_IDs)){\n",
    "    sleep_for <- as.numeric(difftime(rate_limits.df$reset[26], Sys.time(), tz = \"UTC\", units = \"secs\"))\n",
    "    print(paste0(\"API limit reached. Wait \", ceiling(sleep_for), \" seconds.\"))\n",
    "    Sys.sleep(sleep_for)\n",
    "  }\n",
    "}"
   ]
  },
  {
   "cell_type": "code",
   "execution_count": 6,
   "metadata": {
    "collapsed": true
   },
   "outputs": [],
   "source": [
    "# for now, let's try and get all the locations in \"framboyanenflor\"'s network (match_frequencies.df$handle[1])\n",
    "locations <- character(length(matches.ls[[1]]))"
   ]
  },
  {
   "cell_type": "code",
   "execution_count": 7,
   "metadata": {
    "collapsed": false,
    "scrolled": true
   },
   "outputs": [
    {
     "name": "stderr",
     "output_type": "stream",
     "text": [
      "Warning message in rm(user):\n",
      "“object 'user' not found”Warning message in rm(user):\n",
      "“object 'user' not found”Warning message in rm(user):\n",
      "“object 'user' not found”Warning message in rm(user):\n",
      "“object 'user' not found”Warning message in rm(user):\n",
      "“object 'user' not found”"
     ]
    }
   ],
   "source": [
    "# LOOP WITHOUT SIGNIFICANT DOWNSAMPLING (unless n>700)\n",
    "\n",
    "for(i in 1:1){\n",
    "    # recursively convert list elements to character vectors / downsample if too large\n",
    "    network_IDs <- matches.ls[[i]]\n",
    "    if(length(network_IDs)>900){\n",
    "        network_IDs <- sample(network_IDs, size=750, replace=FALSE)\n",
    "    }\n",
    "    # API limits test\n",
    "    apiCheckLocs(network_IDs)\n",
    "    # initialise empty vector in which locations will be stored\n",
    "    locations <- character(length(network_IDs))\n",
    "    # get locations for every ID in the network_ID vector\n",
    "    for(j in 1:length(network_IDs)){\n",
    "        locations[j] <- getLocation(network_IDs[j])\n",
    "    } \n",
    "}\n"
   ]
  },
  {
   "cell_type": "code",
   "execution_count": 8,
   "metadata": {
    "collapsed": false
   },
   "outputs": [
    {
     "data": {
      "text/html": [
       "<ol class=list-inline>\n",
       "\t<li>NA</li>\n",
       "\t<li>'Cuba'</li>\n",
       "\t<li><span style=white-space:pre-wrap>'North Carolina  USA'</span></li>\n",
       "\t<li>NA</li>\n",
       "\t<li><span style=white-space:pre-wrap>'Caracas  Venezuela'</span></li>\n",
       "\t<li>'Las Islas Filipinas'</li>\n",
       "</ol>\n"
      ],
      "text/latex": [
       "\\begin{enumerate*}\n",
       "\\item NA\n",
       "\\item 'Cuba'\n",
       "\\item 'North Carolina  USA'\n",
       "\\item NA\n",
       "\\item 'Caracas  Venezuela'\n",
       "\\item 'Las Islas Filipinas'\n",
       "\\end{enumerate*}\n"
      ],
      "text/markdown": [
       "1. NA\n",
       "2. 'Cuba'\n",
       "3. <span style=white-space:pre-wrap>'North Carolina  USA'</span>\n",
       "4. NA\n",
       "5. <span style=white-space:pre-wrap>'Caracas  Venezuela'</span>\n",
       "6. 'Las Islas Filipinas'\n",
       "\n",
       "\n"
      ],
      "text/plain": [
       "[1] NA                    \"Cuba\"                \"North Carolina  USA\"\n",
       "[4] NA                    \"Caracas  Venezuela\"  \"Las Islas Filipinas\""
      ]
     },
     "metadata": {},
     "output_type": "display_data"
    }
   ],
   "source": [
    "locations_test <- gsub(\"[[:punct:]]\", \" \", locations)\n",
    "locations_test <- gsub(\"no location\", NA, locations_test)\n",
    "locations_test <- gsub(\"\", NA, locations_test)\n",
    "head(locations_test)"
   ]
  },
  {
   "cell_type": "code",
   "execution_count": 56,
   "metadata": {
    "collapsed": false,
    "scrolled": false
   },
   "outputs": [],
   "source": [
    "# building a geonames data frame from all the location data\n",
    "# location data is (HERE) saved as a character vector, locations\n",
    "\n",
    "# initialise empty data frame\n",
    "# what I need: adminCode1, lng, countryCode, name, lat (from geonames)\n",
    "# twitter ID (matches.ls[[i]][l]), start_time, end_time\n",
    "\n",
    "network_locations.df <- data.frame(name = character(0),\n",
    "                                   admin_code = character(0),\n",
    "                                   country_code = character(0),\n",
    "                                   long = character(0),\n",
    "                                   lat = character(0),\n",
    "                                   start_time = character(0),\n",
    "                                   end_time = character(0))\n",
    "\n",
    "for(l in 1:length(locations)){\n",
    "    start_time <- format(Sys.time(), \"%H-%M-%S\")\n",
    "    # the geonames query\n",
    "    if(is.na(locations_test[l])){\n",
    "        next\n",
    "    }\n",
    "    geo_return.df <- GNsearch(q = locations_test[l], maxRows = 1, username = \"nikloynes\")\n",
    "    end_time <- format(Sys.time(), \"%H-%M-%S\")\n",
    "    if(length(geo_return.df)==0){\n",
    "        next\n",
    "    }\n",
    "    if(length(geo_return.df$adminCode1[1])==0){\n",
    "        next\n",
    "    }\n",
    "    if(geo_return.df$name[1]==\"Earth\" | geo_return.df$name==\"Northern America\"){\n",
    "        next\n",
    "    }\n",
    "    newline <- data.frame(geo_return.df$name[1], \n",
    "                          geo_return.df$adminCode1[1], \n",
    "                          geo_return.df$countryCode[1],\n",
    "                          geo_return.df$lng[1],\n",
    "                          geo_return.df$lat[1],\n",
    "                          start_time,\n",
    "                          end_time)\n",
    "    names(newline) <- c(\"name\", \"admin_code\", \"country_code\", \"long\", \"lat\", \"start_time\", \"end_time\")\n",
    "    network_locations.df <- rbind(network_locations.df, newline)\n",
    "    rm(geo_return.df, newline)\n",
    "}"
   ]
  },
  {
   "cell_type": "code",
   "execution_count": 57,
   "metadata": {
    "collapsed": false,
    "scrolled": true
   },
   "outputs": [
    {
     "data": {
      "text/html": [
       "'factor'"
      ],
      "text/latex": [
       "'factor'"
      ],
      "text/markdown": [
       "'factor'"
      ],
      "text/plain": [
       "[1] \"factor\""
      ]
     },
     "metadata": {},
     "output_type": "display_data"
    },
    {
     "data": {
      "text/html": [
       "'factor'"
      ],
      "text/latex": [
       "'factor'"
      ],
      "text/markdown": [
       "'factor'"
      ],
      "text/plain": [
       "[1] \"factor\""
      ]
     },
     "metadata": {},
     "output_type": "display_data"
    }
   ],
   "source": [
    "#network_locations.df$long  <- as.numeric(network_locations.df$long)\n",
    "#network_locations.df$lat <- as.numeric(network_locations.df$lat)\n",
    "class(network_locations.df$long)\n",
    "class(network_locations.df$lat)"
   ]
  },
  {
   "cell_type": "code",
   "execution_count": 58,
   "metadata": {
    "collapsed": false,
    "scrolled": false
   },
   "outputs": [
    {
     "data": {
      "text/html": [
       "TRUE"
      ],
      "text/latex": [
       "TRUE"
      ],
      "text/markdown": [
       "TRUE"
      ],
      "text/plain": [
       "[1] TRUE"
      ]
     },
     "metadata": {},
     "output_type": "display_data"
    },
    {
     "data": {
      "text/html": [
       "278"
      ],
      "text/latex": [
       "278"
      ],
      "text/markdown": [
       "278"
      ],
      "text/plain": [
       "[1] 278"
      ]
     },
     "metadata": {},
     "output_type": "display_data"
    },
    {
     "data": {
      "text/html": [
       "<ol class=list-inline>\n",
       "\t<li>NA</li>\n",
       "\t<li>'Cuba'</li>\n",
       "\t<li><span style=white-space:pre-wrap>'North Carolina  USA'</span></li>\n",
       "\t<li>NA</li>\n",
       "\t<li><span style=white-space:pre-wrap>'Caracas  Venezuela'</span></li>\n",
       "\t<li>'Las Islas Filipinas'</li>\n",
       "\t<li><span style=white-space:pre-wrap>'Toowoomba  Queensland'</span></li>\n",
       "\t<li><span style=white-space:pre-wrap>'Washington  DC'</span></li>\n",
       "\t<li><span style=white-space:pre-wrap>'Mumbai  India'</span></li>\n",
       "\t<li><span style=white-space:pre-wrap>'Chicago  IL theannouncer1060 gmail com'</span></li>\n",
       "</ol>\n"
      ],
      "text/latex": [
       "\\begin{enumerate*}\n",
       "\\item NA\n",
       "\\item 'Cuba'\n",
       "\\item 'North Carolina  USA'\n",
       "\\item NA\n",
       "\\item 'Caracas  Venezuela'\n",
       "\\item 'Las Islas Filipinas'\n",
       "\\item 'Toowoomba  Queensland'\n",
       "\\item 'Washington  DC'\n",
       "\\item 'Mumbai  India'\n",
       "\\item 'Chicago  IL theannouncer1060 gmail com'\n",
       "\\end{enumerate*}\n"
      ],
      "text/markdown": [
       "1. NA\n",
       "2. 'Cuba'\n",
       "3. <span style=white-space:pre-wrap>'North Carolina  USA'</span>\n",
       "4. NA\n",
       "5. <span style=white-space:pre-wrap>'Caracas  Venezuela'</span>\n",
       "6. 'Las Islas Filipinas'\n",
       "7. <span style=white-space:pre-wrap>'Toowoomba  Queensland'</span>\n",
       "8. <span style=white-space:pre-wrap>'Washington  DC'</span>\n",
       "9. <span style=white-space:pre-wrap>'Mumbai  India'</span>\n",
       "10. <span style=white-space:pre-wrap>'Chicago  IL theannouncer1060 gmail com'</span>\n",
       "\n",
       "\n"
      ],
      "text/plain": [
       " [1] NA                                      \n",
       " [2] \"Cuba\"                                  \n",
       " [3] \"North Carolina  USA\"                   \n",
       " [4] NA                                      \n",
       " [5] \"Caracas  Venezuela\"                    \n",
       " [6] \"Las Islas Filipinas\"                   \n",
       " [7] \"Toowoomba  Queensland\"                 \n",
       " [8] \"Washington  DC\"                        \n",
       " [9] \"Mumbai  India\"                         \n",
       "[10] \"Chicago  IL theannouncer1060 gmail com\""
      ]
     },
     "metadata": {},
     "output_type": "display_data"
    },
    {
     "data": {
      "text/html": [
       "<table>\n",
       "<thead><tr><th scope=col>name</th><th scope=col>admin_code</th><th scope=col>country_code</th><th scope=col>long</th><th scope=col>lat</th><th scope=col>start_time</th><th scope=col>end_time</th></tr></thead>\n",
       "<tbody>\n",
       "\t<tr><td>Cuba        </td><td>00          </td><td>CU          </td><td>-79.5       </td><td>22          </td><td>19-54-31    </td><td>19-54-31    </td></tr>\n",
       "\t<tr><td>Raleigh     </td><td>NC          </td><td>US          </td><td>-78.63861   </td><td>35.7721     </td><td>19-54-31    </td><td>19-54-31    </td></tr>\n",
       "\t<tr><td>Caracas     </td><td>25          </td><td>VE          </td><td>-66.87919   </td><td>10.48801    </td><td>19-54-31    </td><td>19-54-32    </td></tr>\n",
       "\t<tr><td>Philippines </td><td>00          </td><td>PH          </td><td>122         </td><td>13          </td><td>19-54-32    </td><td>19-54-32    </td></tr>\n",
       "\t<tr><td>Toowoomba   </td><td>04          </td><td>AU          </td><td>151.95386   </td><td>-27.56056   </td><td>19-54-32    </td><td>19-54-32    </td></tr>\n",
       "\t<tr><td>Washington  </td><td>DC          </td><td>US          </td><td>-77.03637   </td><td>38.89511    </td><td>19-54-32    </td><td>19-54-32    </td></tr>\n",
       "\t<tr><td>Mumbai      </td><td>16          </td><td>IN          </td><td>72.88261    </td><td>19.07283    </td><td>19-54-32    </td><td>19-54-33    </td></tr>\n",
       "\t<tr><td>Buenos Aires</td><td>07          </td><td>AR          </td><td>-58.37723   </td><td>-34.61315   </td><td>19-54-33    </td><td>19-54-33    </td></tr>\n",
       "\t<tr><td>New York    </td><td>NY          </td><td>US          </td><td>-74.00597   </td><td>40.71427    </td><td>19-54-34    </td><td>19-54-34    </td></tr>\n",
       "\t<tr><td>Charleston  </td><td>SC          </td><td>US          </td><td>-79.93092   </td><td>32.77657    </td><td>19-54-34    </td><td>19-54-34    </td></tr>\n",
       "</tbody>\n",
       "</table>\n"
      ],
      "text/latex": [
       "\\begin{tabular}{r|lllllll}\n",
       " name & admin\\_code & country\\_code & long & lat & start\\_time & end\\_time\\\\\n",
       "\\hline\n",
       "\t Cuba         & 00           & CU           & -79.5        & 22           & 19-54-31     & 19-54-31    \\\\\n",
       "\t Raleigh      & NC           & US           & -78.63861    & 35.7721      & 19-54-31     & 19-54-31    \\\\\n",
       "\t Caracas      & 25           & VE           & -66.87919    & 10.48801     & 19-54-31     & 19-54-32    \\\\\n",
       "\t Philippines  & 00           & PH           & 122          & 13           & 19-54-32     & 19-54-32    \\\\\n",
       "\t Toowoomba    & 04           & AU           & 151.95386    & -27.56056    & 19-54-32     & 19-54-32    \\\\\n",
       "\t Washington   & DC           & US           & -77.03637    & 38.89511     & 19-54-32     & 19-54-32    \\\\\n",
       "\t Mumbai       & 16           & IN           & 72.88261     & 19.07283     & 19-54-32     & 19-54-33    \\\\\n",
       "\t Buenos Aires & 07           & AR           & -58.37723    & -34.61315    & 19-54-33     & 19-54-33    \\\\\n",
       "\t New York     & NY           & US           & -74.00597    & 40.71427     & 19-54-34     & 19-54-34    \\\\\n",
       "\t Charleston   & SC           & US           & -79.93092    & 32.77657     & 19-54-34     & 19-54-34    \\\\\n",
       "\\end{tabular}\n"
      ],
      "text/markdown": [
       "\n",
       "name | admin_code | country_code | long | lat | start_time | end_time | \n",
       "|---|---|---|---|---|---|---|---|---|---|\n",
       "| Cuba         | 00           | CU           | -79.5        | 22           | 19-54-31     | 19-54-31     | \n",
       "| Raleigh      | NC           | US           | -78.63861    | 35.7721      | 19-54-31     | 19-54-31     | \n",
       "| Caracas      | 25           | VE           | -66.87919    | 10.48801     | 19-54-31     | 19-54-32     | \n",
       "| Philippines  | 00           | PH           | 122          | 13           | 19-54-32     | 19-54-32     | \n",
       "| Toowoomba    | 04           | AU           | 151.95386    | -27.56056    | 19-54-32     | 19-54-32     | \n",
       "| Washington   | DC           | US           | -77.03637    | 38.89511     | 19-54-32     | 19-54-32     | \n",
       "| Mumbai       | 16           | IN           | 72.88261     | 19.07283     | 19-54-32     | 19-54-33     | \n",
       "| Buenos Aires | 07           | AR           | -58.37723    | -34.61315    | 19-54-33     | 19-54-33     | \n",
       "| New York     | NY           | US           | -74.00597    | 40.71427     | 19-54-34     | 19-54-34     | \n",
       "| Charleston   | SC           | US           | -79.93092    | 32.77657     | 19-54-34     | 19-54-34     | \n",
       "\n",
       "\n"
      ],
      "text/plain": [
       "   name         admin_code country_code long      lat       start_time end_time\n",
       "1  Cuba         00         CU           -79.5     22        19-54-31   19-54-31\n",
       "2  Raleigh      NC         US           -78.63861 35.7721   19-54-31   19-54-31\n",
       "3  Caracas      25         VE           -66.87919 10.48801  19-54-31   19-54-32\n",
       "4  Philippines  00         PH           122       13        19-54-32   19-54-32\n",
       "5  Toowoomba    04         AU           151.95386 -27.56056 19-54-32   19-54-32\n",
       "6  Washington   DC         US           -77.03637 38.89511  19-54-32   19-54-32\n",
       "7  Mumbai       16         IN           72.88261  19.07283  19-54-32   19-54-33\n",
       "8  Buenos Aires 07         AR           -58.37723 -34.61315 19-54-33   19-54-33\n",
       "9  New York     NY         US           -74.00597 40.71427  19-54-34   19-54-34\n",
       "10 Charleston   SC         US           -79.93092 32.77657  19-54-34   19-54-34"
      ]
     },
     "metadata": {},
     "output_type": "display_data"
    }
   ],
   "source": [
    "l==length(locations_test)\n",
    "length(network_locations.df$name)\n",
    "locations_test[1:10]\n",
    "head(network_locations.df, n=10)"
   ]
  },
  {
   "cell_type": "code",
   "execution_count": 83,
   "metadata": {
    "collapsed": true
   },
   "outputs": [],
   "source": [
    "# smaller data frame for k-means clustering\n",
    "long_lat.df <- data.frame(long = network_locations.df$long, \n",
    "                          lat = network_locations.df$lat,\n",
    "                          city = network_locations.df$name)\n",
    "\n",
    "#long_lat.df <- data.frame(lapply(long_lat.df, as.numeric), stringsAsFactors=FALSE)\n",
    "\n",
    "\n",
    "long_lat.df$long <- as.numeric(as.character(long_lat.df$long))\n",
    "long_lat.df$lat <- as.numeric(as.character(long_lat.df$lat))"
   ]
  },
  {
   "cell_type": "code",
   "execution_count": 96,
   "metadata": {
    "collapsed": true
   },
   "outputs": [],
   "source": [
    "geoDistance <- function(df){\n",
    "  require(geosphere)\n",
    "  d <- function(i,z){         # z[1:2] contain long, lat\n",
    "    dist <- rep(0,nrow(z))\n",
    "    dist[i:nrow(z)] <- distHaversine(z[i:nrow(z),1:2],z[i,1:2])\n",
    "    return(dist)\n",
    "  }\n",
    "  dm <- do.call(cbind,lapply(1:nrow(df),d,df))\n",
    "  return(as.dist(dm))\n",
    "}"
   ]
  },
  {
   "cell_type": "code",
   "execution_count": 99,
   "metadata": {
    "collapsed": false
   },
   "outputs": [],
   "source": [
    "distance_matrix <- geoDistance(df = long_lat.df)\n",
    "hierarchical_cluster <- hclust(distance_matrix)"
   ]
  },
  {
   "cell_type": "code",
   "execution_count": 100,
   "metadata": {
    "collapsed": false
   },
   "outputs": [
    {
     "data": {
      "image/png": "[encoded data removed]",
      "text/plain": [
       "Plot with title “Cluster Dendrogram”"
      ]
     },
     "metadata": {},
     "output_type": "display_data"
    }
   ],
   "source": [
    "plot(hierarchical_cluster)\n",
    "# plot suggests 2? clusters"
   ]
  },
  {
   "cell_type": "code",
   "execution_count": 103,
   "metadata": {
    "collapsed": true
   },
   "outputs": [],
   "source": [
    "long_lat.df$clust <- cutree(hierarchical_cluster, k=4)"
   ]
  },
  {
   "cell_type": "code",
   "execution_count": 104,
   "metadata": {
    "collapsed": false,
    "scrolled": true
   },
   "outputs": [
    {
     "data": {
      "text/html": [
       "<table>\n",
       "<thead><tr><th scope=col>long</th><th scope=col>lat</th><th scope=col>city</th><th scope=col>clust</th></tr></thead>\n",
       "<tbody>\n",
       "\t<tr><td>-79.50000     </td><td> 22.00000     </td><td>Cuba          </td><td>1             </td></tr>\n",
       "\t<tr><td>-78.63861     </td><td> 35.77210     </td><td>Raleigh       </td><td>1             </td></tr>\n",
       "\t<tr><td>-66.87919     </td><td> 10.48801     </td><td>Caracas       </td><td>1             </td></tr>\n",
       "\t<tr><td>122.00000     </td><td> 13.00000     </td><td>Philippines   </td><td>2             </td></tr>\n",
       "\t<tr><td>151.95386     </td><td>-27.56056     </td><td>Toowoomba     </td><td>2             </td></tr>\n",
       "\t<tr><td>-77.03637     </td><td> 38.89511     </td><td>Washington    </td><td>1             </td></tr>\n",
       "\t<tr><td> 72.88261     </td><td> 19.07283     </td><td>Mumbai        </td><td>3             </td></tr>\n",
       "\t<tr><td>-58.37723     </td><td>-34.61315     </td><td>Buenos Aires  </td><td>4             </td></tr>\n",
       "\t<tr><td>-74.00597     </td><td> 40.71427     </td><td>New York      </td><td>1             </td></tr>\n",
       "\t<tr><td>-79.93092     </td><td> 32.77657     </td><td>Charleston    </td><td>1             </td></tr>\n",
       "\t<tr><td> 32.85427     </td><td> 39.91987     </td><td>Ankara        </td><td>3             </td></tr>\n",
       "\t<tr><td> 28.94966     </td><td> 41.01384     </td><td>Istanbul      </td><td>3             </td></tr>\n",
       "\t<tr><td> 35.00000     </td><td> 39.00000     </td><td>Turkey        </td><td>3             </td></tr>\n",
       "\t<tr><td> 28.94966     </td><td> 41.01384     </td><td>Istanbul      </td><td>3             </td></tr>\n",
       "\t<tr><td> -0.88333     </td><td> 52.25000     </td><td>Northampton   </td><td>3             </td></tr>\n",
       "\t<tr><td>-82.32483     </td><td> 29.65163     </td><td>Gainesville   </td><td>1             </td></tr>\n",
       "\t<tr><td>-74.00597     </td><td> 40.71427     </td><td>New York      </td><td>1             </td></tr>\n",
       "\t<tr><td>-74.00597     </td><td> 40.71427     </td><td>New York      </td><td>1             </td></tr>\n",
       "\t<tr><td>-79.50000     </td><td> 22.00000     </td><td>Cuba          </td><td>1             </td></tr>\n",
       "\t<tr><td> 36.29128     </td><td> 33.51020     </td><td>Damascus      </td><td>3             </td></tr>\n",
       "\t<tr><td>-72.33500     </td><td> 18.53917     </td><td>Port-au-Prince</td><td>1             </td></tr>\n",
       "\t<tr><td>-78.62667     </td><td> 22.10774     </td><td>Morón         </td><td>1             </td></tr>\n",
       "\t<tr><td>-79.50000     </td><td> 22.00000     </td><td>Cuba          </td><td>1             </td></tr>\n",
       "\t<tr><td>-96.80667     </td><td> 32.78306     </td><td>Dallas        </td><td>1             </td></tr>\n",
       "\t<tr><td>-74.07764     </td><td> 40.72816     </td><td>Jersey City   </td><td>1             </td></tr>\n",
       "\t<tr><td> 18.38975     </td><td> 59.32684     </td><td>Gustavsberg   </td><td>3             </td></tr>\n",
       "\t<tr><td>-75.69812     </td><td> 45.41117     </td><td>Ottawa        </td><td>1             </td></tr>\n",
       "\t<tr><td>-74.00597     </td><td> 40.71427     </td><td>New York      </td><td>1             </td></tr>\n",
       "\t<tr><td>-74.00597     </td><td> 40.71427     </td><td>New York      </td><td>1             </td></tr>\n",
       "\t<tr><td>-74.00597     </td><td> 40.71427     </td><td>New York      </td><td>1             </td></tr>\n",
       "\t<tr><td>⋮</td><td>⋮</td><td>⋮</td><td>⋮</td></tr>\n",
       "\t<tr><td>-66.87919       </td><td> 10.48801       </td><td>Caracas         </td><td>1               </td></tr>\n",
       "\t<tr><td>-82.38304       </td><td> 23.13302       </td><td>Havana          </td><td>1               </td></tr>\n",
       "\t<tr><td>-79.50000       </td><td> 22.00000       </td><td>Cuba            </td><td>1               </td></tr>\n",
       "\t<tr><td>-71.00000       </td><td>-30.00000       </td><td>Chile           </td><td>4               </td></tr>\n",
       "\t<tr><td>-79.50000       </td><td> 22.00000       </td><td>Cuba            </td><td>1               </td></tr>\n",
       "\t<tr><td> 13.41053       </td><td> 52.52437       </td><td>Berlin          </td><td>3               </td></tr>\n",
       "\t<tr><td>-79.50000       </td><td> 22.00000       </td><td>Cuba            </td><td>1               </td></tr>\n",
       "\t<tr><td>-79.50000       </td><td> 22.00000       </td><td>Cuba            </td><td>1               </td></tr>\n",
       "\t<tr><td>-82.38304       </td><td> 23.13302       </td><td>Havana          </td><td>1               </td></tr>\n",
       "\t<tr><td>-77.01107       </td><td>-12.09841       </td><td>San Borja       </td><td>1               </td></tr>\n",
       "\t<tr><td>-77.04692       </td><td> 38.80484       </td><td>Alexandria      </td><td>1               </td></tr>\n",
       "\t<tr><td>-43.61833       </td><td>-22.67278       </td><td>Parque São Jorge</td><td>4               </td></tr>\n",
       "\t<tr><td>-73.58781       </td><td> 45.50884       </td><td>Montreal        </td><td>1               </td></tr>\n",
       "\t<tr><td>  2.34880       </td><td> 48.85341       </td><td>Paris           </td><td>3               </td></tr>\n",
       "\t<tr><td>-70.19957       </td><td> 11.69560       </td><td>Punto Fijo      </td><td>1               </td></tr>\n",
       "\t<tr><td>-81.57750       </td><td> 23.04111       </td><td>Matanzas        </td><td>1               </td></tr>\n",
       "\t<tr><td>-79.50000       </td><td> 22.00000       </td><td>Cuba            </td><td>1               </td></tr>\n",
       "\t<tr><td>-79.50000       </td><td> 22.00000       </td><td>Cuba            </td><td>1               </td></tr>\n",
       "\t<tr><td>-75.82667       </td><td> 20.02083       </td><td>Santiago de Cuba</td><td>1               </td></tr>\n",
       "\t<tr><td>-78.52495       </td><td> -0.22985       </td><td>Quito           </td><td>1               </td></tr>\n",
       "\t<tr><td>-66.00000       </td><td>  8.00000       </td><td>Venezuela       </td><td>1               </td></tr>\n",
       "\t<tr><td>-79.50000       </td><td> 22.00000       </td><td>Cuba            </td><td>1               </td></tr>\n",
       "\t<tr><td>-71.00000       </td><td>-30.00000       </td><td>Chile           </td><td>4               </td></tr>\n",
       "\t<tr><td>-79.50000       </td><td> 22.00000       </td><td>Cuba            </td><td>1               </td></tr>\n",
       "\t<tr><td>-82.38304       </td><td> 23.13302       </td><td>Havana          </td><td>1               </td></tr>\n",
       "\t<tr><td>-67.04325       </td><td> 10.34447       </td><td>Los Teques      </td><td>1               </td></tr>\n",
       "\t<tr><td>-82.38304       </td><td> 23.13302       </td><td>Havana          </td><td>1               </td></tr>\n",
       "\t<tr><td>-79.50000       </td><td> 22.00000       </td><td>Cuba            </td><td>1               </td></tr>\n",
       "\t<tr><td>-80.44662       </td><td> 22.14957       </td><td>Cienfuegos      </td><td>1               </td></tr>\n",
       "\t<tr><td>-79.50000       </td><td> 22.00000       </td><td>Cuba            </td><td>1               </td></tr>\n",
       "</tbody>\n",
       "</table>\n"
      ],
      "text/latex": [
       "\\begin{tabular}{r|llll}\n",
       " long & lat & city & clust\\\\\n",
       "\\hline\n",
       "\t -79.50000      &  22.00000      & Cuba           & 1             \\\\\n",
       "\t -78.63861      &  35.77210      & Raleigh        & 1             \\\\\n",
       "\t -66.87919      &  10.48801      & Caracas        & 1             \\\\\n",
       "\t 122.00000      &  13.00000      & Philippines    & 2             \\\\\n",
       "\t 151.95386      & -27.56056      & Toowoomba      & 2             \\\\\n",
       "\t -77.03637      &  38.89511      & Washington     & 1             \\\\\n",
       "\t  72.88261      &  19.07283      & Mumbai         & 3             \\\\\n",
       "\t -58.37723      & -34.61315      & Buenos Aires   & 4             \\\\\n",
       "\t -74.00597      &  40.71427      & New York       & 1             \\\\\n",
       "\t -79.93092      &  32.77657      & Charleston     & 1             \\\\\n",
       "\t  32.85427      &  39.91987      & Ankara         & 3             \\\\\n",
       "\t  28.94966      &  41.01384      & Istanbul       & 3             \\\\\n",
       "\t  35.00000      &  39.00000      & Turkey         & 3             \\\\\n",
       "\t  28.94966      &  41.01384      & Istanbul       & 3             \\\\\n",
       "\t  -0.88333      &  52.25000      & Northampton    & 3             \\\\\n",
       "\t -82.32483      &  29.65163      & Gainesville    & 1             \\\\\n",
       "\t -74.00597      &  40.71427      & New York       & 1             \\\\\n",
       "\t -74.00597      &  40.71427      & New York       & 1             \\\\\n",
       "\t -79.50000      &  22.00000      & Cuba           & 1             \\\\\n",
       "\t  36.29128      &  33.51020      & Damascus       & 3             \\\\\n",
       "\t -72.33500      &  18.53917      & Port-au-Prince & 1             \\\\\n",
       "\t -78.62667      &  22.10774      & Morón          & 1             \\\\\n",
       "\t -79.50000      &  22.00000      & Cuba           & 1             \\\\\n",
       "\t -96.80667      &  32.78306      & Dallas         & 1             \\\\\n",
       "\t -74.07764      &  40.72816      & Jersey City    & 1             \\\\\n",
       "\t  18.38975      &  59.32684      & Gustavsberg    & 3             \\\\\n",
       "\t -75.69812      &  45.41117      & Ottawa         & 1             \\\\\n",
       "\t -74.00597      &  40.71427      & New York       & 1             \\\\\n",
       "\t -74.00597      &  40.71427      & New York       & 1             \\\\\n",
       "\t -74.00597      &  40.71427      & New York       & 1             \\\\\n",
       "\t ⋮ & ⋮ & ⋮ & ⋮\\\\\n",
       "\t -66.87919        &  10.48801        & Caracas          & 1               \\\\\n",
       "\t -82.38304        &  23.13302        & Havana           & 1               \\\\\n",
       "\t -79.50000        &  22.00000        & Cuba             & 1               \\\\\n",
       "\t -71.00000        & -30.00000        & Chile            & 4               \\\\\n",
       "\t -79.50000        &  22.00000        & Cuba             & 1               \\\\\n",
       "\t  13.41053        &  52.52437        & Berlin           & 3               \\\\\n",
       "\t -79.50000        &  22.00000        & Cuba             & 1               \\\\\n",
       "\t -79.50000        &  22.00000        & Cuba             & 1               \\\\\n",
       "\t -82.38304        &  23.13302        & Havana           & 1               \\\\\n",
       "\t -77.01107        & -12.09841        & San Borja        & 1               \\\\\n",
       "\t -77.04692        &  38.80484        & Alexandria       & 1               \\\\\n",
       "\t -43.61833        & -22.67278        & Parque São Jorge & 4               \\\\\n",
       "\t -73.58781        &  45.50884        & Montreal         & 1               \\\\\n",
       "\t   2.34880        &  48.85341        & Paris            & 3               \\\\\n",
       "\t -70.19957        &  11.69560        & Punto Fijo       & 1               \\\\\n",
       "\t -81.57750        &  23.04111        & Matanzas         & 1               \\\\\n",
       "\t -79.50000        &  22.00000        & Cuba             & 1               \\\\\n",
       "\t -79.50000        &  22.00000        & Cuba             & 1               \\\\\n",
       "\t -75.82667        &  20.02083        & Santiago de Cuba & 1               \\\\\n",
       "\t -78.52495        &  -0.22985        & Quito            & 1               \\\\\n",
       "\t -66.00000        &   8.00000        & Venezuela        & 1               \\\\\n",
       "\t -79.50000        &  22.00000        & Cuba             & 1               \\\\\n",
       "\t -71.00000        & -30.00000        & Chile            & 4               \\\\\n",
       "\t -79.50000        &  22.00000        & Cuba             & 1               \\\\\n",
       "\t -82.38304        &  23.13302        & Havana           & 1               \\\\\n",
       "\t -67.04325        &  10.34447        & Los Teques       & 1               \\\\\n",
       "\t -82.38304        &  23.13302        & Havana           & 1               \\\\\n",
       "\t -79.50000        &  22.00000        & Cuba             & 1               \\\\\n",
       "\t -80.44662        &  22.14957        & Cienfuegos       & 1               \\\\\n",
       "\t -79.50000        &  22.00000        & Cuba             & 1               \\\\\n",
       "\\end{tabular}\n"
      ],
      "text/markdown": [
       "\n",
       "long | lat | city | clust | \n",
       "|---|---|---|---|---|---|---|---|---|---|---|---|---|---|---|---|---|---|---|---|---|---|---|---|---|---|---|---|---|---|---|---|---|---|---|---|---|---|---|---|---|---|---|---|---|---|---|---|---|---|---|---|---|---|---|---|---|---|---|---|---|\n",
       "| -79.50000      |  22.00000      | Cuba           | 1              | \n",
       "| -78.63861      |  35.77210      | Raleigh        | 1              | \n",
       "| -66.87919      |  10.48801      | Caracas        | 1              | \n",
       "| 122.00000      |  13.00000      | Philippines    | 2              | \n",
       "| 151.95386      | -27.56056      | Toowoomba      | 2              | \n",
       "| -77.03637      |  38.89511      | Washington     | 1              | \n",
       "|  72.88261      |  19.07283      | Mumbai         | 3              | \n",
       "| -58.37723      | -34.61315      | Buenos Aires   | 4              | \n",
       "| -74.00597      |  40.71427      | New York       | 1              | \n",
       "| -79.93092      |  32.77657      | Charleston     | 1              | \n",
       "|  32.85427      |  39.91987      | Ankara         | 3              | \n",
       "|  28.94966      |  41.01384      | Istanbul       | 3              | \n",
       "|  35.00000      |  39.00000      | Turkey         | 3              | \n",
       "|  28.94966      |  41.01384      | Istanbul       | 3              | \n",
       "|  -0.88333      |  52.25000      | Northampton    | 3              | \n",
       "| -82.32483      |  29.65163      | Gainesville    | 1              | \n",
       "| -74.00597      |  40.71427      | New York       | 1              | \n",
       "| -74.00597      |  40.71427      | New York       | 1              | \n",
       "| -79.50000      |  22.00000      | Cuba           | 1              | \n",
       "|  36.29128      |  33.51020      | Damascus       | 3              | \n",
       "| -72.33500      |  18.53917      | Port-au-Prince | 1              | \n",
       "| -78.62667      |  22.10774      | Morón          | 1              | \n",
       "| -79.50000      |  22.00000      | Cuba           | 1              | \n",
       "| -96.80667      |  32.78306      | Dallas         | 1              | \n",
       "| -74.07764      |  40.72816      | Jersey City    | 1              | \n",
       "|  18.38975      |  59.32684      | Gustavsberg    | 3              | \n",
       "| -75.69812      |  45.41117      | Ottawa         | 1              | \n",
       "| -74.00597      |  40.71427      | New York       | 1              | \n",
       "| -74.00597      |  40.71427      | New York       | 1              | \n",
       "| -74.00597      |  40.71427      | New York       | 1              | \n",
       "| ⋮ | ⋮ | ⋮ | ⋮ | \n",
       "| -66.87919        |  10.48801        | Caracas          | 1                | \n",
       "| -82.38304        |  23.13302        | Havana           | 1                | \n",
       "| -79.50000        |  22.00000        | Cuba             | 1                | \n",
       "| -71.00000        | -30.00000        | Chile            | 4                | \n",
       "| -79.50000        |  22.00000        | Cuba             | 1                | \n",
       "|  13.41053        |  52.52437        | Berlin           | 3                | \n",
       "| -79.50000        |  22.00000        | Cuba             | 1                | \n",
       "| -79.50000        |  22.00000        | Cuba             | 1                | \n",
       "| -82.38304        |  23.13302        | Havana           | 1                | \n",
       "| -77.01107        | -12.09841        | San Borja        | 1                | \n",
       "| -77.04692        |  38.80484        | Alexandria       | 1                | \n",
       "| -43.61833        | -22.67278        | Parque São Jorge | 4                | \n",
       "| -73.58781        |  45.50884        | Montreal         | 1                | \n",
       "|   2.34880        |  48.85341        | Paris            | 3                | \n",
       "| -70.19957        |  11.69560        | Punto Fijo       | 1                | \n",
       "| -81.57750        |  23.04111        | Matanzas         | 1                | \n",
       "| -79.50000        |  22.00000        | Cuba             | 1                | \n",
       "| -79.50000        |  22.00000        | Cuba             | 1                | \n",
       "| -75.82667        |  20.02083        | Santiago de Cuba | 1                | \n",
       "| -78.52495        |  -0.22985        | Quito            | 1                | \n",
       "| -66.00000        |   8.00000        | Venezuela        | 1                | \n",
       "| -79.50000        |  22.00000        | Cuba             | 1                | \n",
       "| -71.00000        | -30.00000        | Chile            | 4                | \n",
       "| -79.50000        |  22.00000        | Cuba             | 1                | \n",
       "| -82.38304        |  23.13302        | Havana           | 1                | \n",
       "| -67.04325        |  10.34447        | Los Teques       | 1                | \n",
       "| -82.38304        |  23.13302        | Havana           | 1                | \n",
       "| -79.50000        |  22.00000        | Cuba             | 1                | \n",
       "| -80.44662        |  22.14957        | Cienfuegos       | 1                | \n",
       "| -79.50000        |  22.00000        | Cuba             | 1                | \n",
       "\n",
       "\n"
      ],
      "text/plain": [
       "    long      lat       city             clust\n",
       "1   -79.50000  22.00000 Cuba             1    \n",
       "2   -78.63861  35.77210 Raleigh          1    \n",
       "3   -66.87919  10.48801 Caracas          1    \n",
       "4   122.00000  13.00000 Philippines      2    \n",
       "5   151.95386 -27.56056 Toowoomba        2    \n",
       "6   -77.03637  38.89511 Washington       1    \n",
       "7    72.88261  19.07283 Mumbai           3    \n",
       "8   -58.37723 -34.61315 Buenos Aires     4    \n",
       "9   -74.00597  40.71427 New York         1    \n",
       "10  -79.93092  32.77657 Charleston       1    \n",
       "11   32.85427  39.91987 Ankara           3    \n",
       "12   28.94966  41.01384 Istanbul         3    \n",
       "13   35.00000  39.00000 Turkey           3    \n",
       "14   28.94966  41.01384 Istanbul         3    \n",
       "15   -0.88333  52.25000 Northampton      3    \n",
       "16  -82.32483  29.65163 Gainesville      1    \n",
       "17  -74.00597  40.71427 New York         1    \n",
       "18  -74.00597  40.71427 New York         1    \n",
       "19  -79.50000  22.00000 Cuba             1    \n",
       "20   36.29128  33.51020 Damascus         3    \n",
       "21  -72.33500  18.53917 Port-au-Prince   1    \n",
       "22  -78.62667  22.10774 Morón            1    \n",
       "23  -79.50000  22.00000 Cuba             1    \n",
       "24  -96.80667  32.78306 Dallas           1    \n",
       "25  -74.07764  40.72816 Jersey City      1    \n",
       "26   18.38975  59.32684 Gustavsberg      3    \n",
       "27  -75.69812  45.41117 Ottawa           1    \n",
       "28  -74.00597  40.71427 New York         1    \n",
       "29  -74.00597  40.71427 New York         1    \n",
       "30  -74.00597  40.71427 New York         1    \n",
       "⋮   ⋮         ⋮         ⋮                ⋮    \n",
       "249 -66.87919  10.48801 Caracas          1    \n",
       "250 -82.38304  23.13302 Havana           1    \n",
       "251 -79.50000  22.00000 Cuba             1    \n",
       "252 -71.00000 -30.00000 Chile            4    \n",
       "253 -79.50000  22.00000 Cuba             1    \n",
       "254  13.41053  52.52437 Berlin           3    \n",
       "255 -79.50000  22.00000 Cuba             1    \n",
       "256 -79.50000  22.00000 Cuba             1    \n",
       "257 -82.38304  23.13302 Havana           1    \n",
       "258 -77.01107 -12.09841 San Borja        1    \n",
       "259 -77.04692  38.80484 Alexandria       1    \n",
       "260 -43.61833 -22.67278 Parque São Jorge 4    \n",
       "261 -73.58781  45.50884 Montreal         1    \n",
       "262   2.34880  48.85341 Paris            3    \n",
       "263 -70.19957  11.69560 Punto Fijo       1    \n",
       "264 -81.57750  23.04111 Matanzas         1    \n",
       "265 -79.50000  22.00000 Cuba             1    \n",
       "266 -79.50000  22.00000 Cuba             1    \n",
       "267 -75.82667  20.02083 Santiago de Cuba 1    \n",
       "268 -78.52495  -0.22985 Quito            1    \n",
       "269 -66.00000   8.00000 Venezuela        1    \n",
       "270 -79.50000  22.00000 Cuba             1    \n",
       "271 -71.00000 -30.00000 Chile            4    \n",
       "272 -79.50000  22.00000 Cuba             1    \n",
       "273 -82.38304  23.13302 Havana           1    \n",
       "274 -67.04325  10.34447 Los Teques       1    \n",
       "275 -82.38304  23.13302 Havana           1    \n",
       "276 -79.50000  22.00000 Cuba             1    \n",
       "277 -80.44662  22.14957 Cienfuegos       1    \n",
       "278 -79.50000  22.00000 Cuba             1    "
      ]
     },
     "metadata": {},
     "output_type": "display_data"
    }
   ],
   "source": [
    "long_lat.df"
   ]
  },
  {
   "cell_type": "code",
   "execution_count": 105,
   "metadata": {
    "collapsed": true
   },
   "outputs": [],
   "source": [
    "cluster1.df <- long_lat.df[which(long_lat.df$clust==1),]\n",
    "cluster2.df <- long_lat.df[which(long_lat.df$clust==2),]\n",
    "cluster3.df <- long_lat.df[which(long_lat.df$clust==3),]\n",
    "cluster4.df <- long_lat.df[which(long_lat.df$clust==4),]"
   ]
  },
  {
   "cell_type": "code",
   "execution_count": 107,
   "metadata": {
    "collapsed": false
   },
   "outputs": [
    {
     "data": {
      "text/html": [
       "227"
      ],
      "text/latex": [
       "227"
      ],
      "text/markdown": [
       "227"
      ],
      "text/plain": [
       "[1] 227"
      ]
     },
     "metadata": {},
     "output_type": "display_data"
    },
    {
     "data": {
      "text/html": [
       "5"
      ],
      "text/latex": [
       "5"
      ],
      "text/markdown": [
       "5"
      ],
      "text/plain": [
       "[1] 5"
      ]
     },
     "metadata": {},
     "output_type": "display_data"
    },
    {
     "data": {
      "text/html": [
       "25"
      ],
      "text/latex": [
       "25"
      ],
      "text/markdown": [
       "25"
      ],
      "text/plain": [
       "[1] 25"
      ]
     },
     "metadata": {},
     "output_type": "display_data"
    },
    {
     "data": {
      "text/html": [
       "21"
      ],
      "text/latex": [
       "21"
      ],
      "text/markdown": [
       "21"
      ],
      "text/plain": [
       "[1] 21"
      ]
     },
     "metadata": {},
     "output_type": "display_data"
    }
   ],
   "source": [
    "nrow(cluster1.df)\n",
    "nrow(cluster2.df)\n",
    "nrow(cluster3.df)\n",
    "nrow(cluster4.df)"
   ]
  },
  {
   "cell_type": "code",
   "execution_count": 108,
   "metadata": {
    "collapsed": false,
    "scrolled": true
   },
   "outputs": [
    {
     "data": {
      "text/plain": [
       "      long              lat                 city        clust  \n",
       " Min.   :-102.00   Min.   :-12.10   Cuba      :74   Min.   :1  \n",
       " 1st Qu.: -79.50   1st Qu.: 11.17   Havana    :26   1st Qu.:1  \n",
       " Median : -79.50   Median : 22.00   Venezuela :18   Median :1  \n",
       " Mean   : -76.77   Mean   : 20.73   Caracas   :11   Mean   :1  \n",
       " 3rd Qu.: -72.78   3rd Qu.: 23.02   New York  :10   3rd Qu.:1  \n",
       " Max.   : -63.00   Max.   : 45.69   Cienfuegos: 8   Max.   :1  \n",
       "                                    (Other)   :80              "
      ]
     },
     "metadata": {},
     "output_type": "display_data"
    }
   ],
   "source": [
    "summary(cluster1.df)"
   ]
  },
  {
   "cell_type": "code",
   "execution_count": 85,
   "metadata": {
    "collapsed": false,
    "scrolled": false
   },
   "outputs": [
    {
     "data": {},
     "metadata": {},
     "output_type": "display_data"
    },
    {
     "data": {
      "image/png": "[encoded data removed]",
      "text/plain": [
       "plot without title"
      ]
     },
     "metadata": {},
     "output_type": "display_data"
    }
   ],
   "source": [
    "# visualise the data\n",
    "p <- ggplot(long_lat.df, aes(lat, long)) + geom_point()\n",
    "p + scale_x_continuous() + scale_y_continuous() "
   ]
  },
  {
   "cell_type": "markdown",
   "metadata": {},
   "source": [
    "The plot shows that there aren't necessarily clear clusters identifiable, but I'd suggest there might be 3?"
   ]
  },
  {
   "cell_type": "code",
   "execution_count": 89,
   "metadata": {
    "collapsed": false
   },
   "outputs": [
    {
     "name": "stderr",
     "output_type": "stream",
     "text": [
      "also installing the dependencies ‘DEoptimR’, ‘mclust’, ‘flexmix’, ‘prabclus’, ‘diptest’, ‘mvtnorm’, ‘robustbase’, ‘kernlab’, ‘trimcluster’\n",
      "\n"
     ]
    },
    {
     "name": "stdout",
     "output_type": "stream",
     "text": [
      "\n",
      "The downloaded binary packages are in\n",
      "\t/var/folders/yw/ns1g13kn42ncgzkmyp4b484m0000gn/T//Rtmpm7sKAO/downloaded_packages\n"
     ]
    }
   ],
   "source": [
    "install.packages(\"fpc\")"
   ]
  },
  {
   "cell_type": "code",
   "execution_count": 22,
   "metadata": {
    "collapsed": true
   },
   "outputs": [],
   "source": [
    "# taken straight from stack overflow. \n",
    "# a function that creates a distance matrix? i think. don't really know at this point\n",
    "# this currently does *not* work.\n",
    "\n",
    "geo.dist = function(df) {\n",
    "  require(geosphere)\n",
    "  d <- function(i,z){         # z[1:2] contain long, lat\n",
    "    dist <- rep(0,nrow(z))\n",
    "    dist[i:nrow(z)] <- distHaversine(z[i:nrow(z),1:2],z[i,1:2])\n",
    "    return(dist)\n",
    "  }\n",
    "  dm <- do.call(cbind,lapply(1:nrow(df),d,df))\n",
    "  return(as.dist(dm))\n",
    "}"
   ]
  },
  {
   "cell_type": "code",
   "execution_count": 24,
   "metadata": {
    "collapsed": false
   },
   "outputs": [
    {
     "ename": "ERROR",
     "evalue": "Error in .pointsToMatrix(p1): longitude < -360\n",
     "output_type": "error",
     "traceback": [
      "Error in .pointsToMatrix(p1): longitude < -360\nTraceback:\n",
      "1. geo.dist(df)",
      "2. do.call(cbind, lapply(1:nrow(df), d, df))   # at line 12 of file <text>",
      "3. lapply(1:nrow(df), d, df)",
      "4. FUN(X[[i]], ...)",
      "5. distHaversine(z[i:nrow(z), 1:2], z[i, 1:2])   # at line 9 of file <text>",
      "6. .pointsToMatrix(p1)",
      "7. stop(\"longitude < -360\")"
     ]
    }
   ],
   "source": [
    "# attepmting geographic clustering\n",
    "df <- data.frame(long = network_locations.df$long, \n",
    "                 lat = network_locations.df$lat, \n",
    "                 city = network_locations.df$name)\n",
    "\n",
    "d <- geo.dist(df)     # distance matrix\n",
    "#hc <- hclust(df)      # hierarchical clustering\n",
    "#plot(hc) \n",
    "\n",
    "# dendrogram suggests 4 clusters\n",
    "# df$clust <- cutree(hc,k=4)"
   ]
  },
  {
   "cell_type": "code",
   "execution_count": 56,
   "metadata": {
    "collapsed": false
   },
   "outputs": [
    {
     "data": {
      "text/html": [
       "<ol class=list-inline>\n",
       "\t<li>1</li>\n",
       "\t<li>2</li>\n",
       "\t<li>1</li>\n",
       "\t<li>3</li>\n",
       "\t<li>4</li>\n",
       "\t<li>5</li>\n",
       "\t<li>4</li>\n",
       "\t<li>6</li>\n",
       "\t<li>7</li>\n",
       "\t<li>8</li>\n",
       "\t<li>9</li>\n",
       "\t<li>10</li>\n",
       "\t<li>11</li>\n",
       "\t<li>4</li>\n",
       "\t<li>12</li>\n",
       "\t<li>4</li>\n",
       "\t<li>13</li>\n",
       "\t<li>14</li>\n",
       "\t<li>15</li>\n",
       "\t<li>4</li>\n",
       "\t<li>16</li>\n",
       "\t<li>17</li>\n",
       "\t<li>12</li>\n",
       "\t<li>18</li>\n",
       "\t<li>4</li>\n",
       "\t<li>19</li>\n",
       "\t<li>4</li>\n",
       "\t<li>19</li>\n",
       "\t<li>4</li>\n",
       "\t<li>13</li>\n",
       "\t<li>20</li>\n",
       "\t<li>21</li>\n",
       "\t<li>22</li>\n",
       "\t<li>23</li>\n",
       "\t<li>24</li>\n",
       "\t<li>4</li>\n",
       "\t<li>3</li>\n",
       "\t<li>12</li>\n",
       "\t<li>13</li>\n",
       "\t<li>25</li>\n",
       "\t<li>26</li>\n",
       "\t<li>27</li>\n",
       "\t<li>28</li>\n",
       "\t<li>1</li>\n",
       "\t<li>29</li>\n",
       "\t<li>30</li>\n",
       "\t<li>31</li>\n",
       "\t<li>32</li>\n",
       "\t<li>1</li>\n",
       "\t<li>21</li>\n",
       "</ol>\n"
      ],
      "text/latex": [
       "\\begin{enumerate*}\n",
       "\\item 1\n",
       "\\item 2\n",
       "\\item 1\n",
       "\\item 3\n",
       "\\item 4\n",
       "\\item 5\n",
       "\\item 4\n",
       "\\item 6\n",
       "\\item 7\n",
       "\\item 8\n",
       "\\item 9\n",
       "\\item 10\n",
       "\\item 11\n",
       "\\item 4\n",
       "\\item 12\n",
       "\\item 4\n",
       "\\item 13\n",
       "\\item 14\n",
       "\\item 15\n",
       "\\item 4\n",
       "\\item 16\n",
       "\\item 17\n",
       "\\item 12\n",
       "\\item 18\n",
       "\\item 4\n",
       "\\item 19\n",
       "\\item 4\n",
       "\\item 19\n",
       "\\item 4\n",
       "\\item 13\n",
       "\\item 20\n",
       "\\item 21\n",
       "\\item 22\n",
       "\\item 23\n",
       "\\item 24\n",
       "\\item 4\n",
       "\\item 3\n",
       "\\item 12\n",
       "\\item 13\n",
       "\\item 25\n",
       "\\item 26\n",
       "\\item 27\n",
       "\\item 28\n",
       "\\item 1\n",
       "\\item 29\n",
       "\\item 30\n",
       "\\item 31\n",
       "\\item 32\n",
       "\\item 1\n",
       "\\item 21\n",
       "\\end{enumerate*}\n"
      ],
      "text/markdown": [
       "1. 1\n",
       "2. 2\n",
       "3. 1\n",
       "4. 3\n",
       "5. 4\n",
       "6. 5\n",
       "7. 4\n",
       "8. 6\n",
       "9. 7\n",
       "10. 8\n",
       "11. 9\n",
       "12. 10\n",
       "13. 11\n",
       "14. 4\n",
       "15. 12\n",
       "16. 4\n",
       "17. 13\n",
       "18. 14\n",
       "19. 15\n",
       "20. 4\n",
       "21. 16\n",
       "22. 17\n",
       "23. 12\n",
       "24. 18\n",
       "25. 4\n",
       "26. 19\n",
       "27. 4\n",
       "28. 19\n",
       "29. 4\n",
       "30. 13\n",
       "31. 20\n",
       "32. 21\n",
       "33. 22\n",
       "34. 23\n",
       "35. 24\n",
       "36. 4\n",
       "37. 3\n",
       "38. 12\n",
       "39. 13\n",
       "40. 25\n",
       "41. 26\n",
       "42. 27\n",
       "43. 28\n",
       "44. 1\n",
       "45. 29\n",
       "46. 30\n",
       "47. 31\n",
       "48. 32\n",
       "49. 1\n",
       "50. 21\n",
       "\n",
       "\n"
      ],
      "text/plain": [
       " [1]  1  2  1  3  4  5  4  6  7  8  9 10 11  4 12  4 13 14 15  4 16 17 12 18  4\n",
       "[26] 19  4 19  4 13 20 21 22 23 24  4  3 12 13 25 26 27 28  1 29 30 31 32  1 21"
      ]
     },
     "metadata": {},
     "output_type": "display_data"
    }
   ],
   "source": [
    "df$long <- as.numeric(df$long)\n",
    "df$lat <- as.numeric(df$lat)\n",
    "df$city <- as.character(df$city)\n",
    "head(df$long, n=50)"
   ]
  },
  {
   "cell_type": "code",
   "execution_count": 144,
   "metadata": {
    "collapsed": false
   },
   "outputs": [
    {
     "data": {
      "text/html": [
       "<table>\n",
       "<thead><tr><th scope=col>name</th><th scope=col>admin_code</th><th scope=col>country_code</th><th scope=col>long</th><th scope=col>long</th><th scope=col>start_time</th><th scope=col>end_time</th></tr></thead>\n",
       "<tbody>\n",
       "\t<tr><td>Hauppauge</td><td>NY       </td><td>US       </td><td>-73.20261</td><td>40.82565 </td><td>22-20-39 </td><td>22-20-40 </td></tr>\n",
       "\t<tr><td>New York </td><td>NY       </td><td>US       </td><td>-74.00597</td><td>40.71427 </td><td>22-20-40 </td><td>22-20-43 </td></tr>\n",
       "</tbody>\n",
       "</table>\n"
      ],
      "text/latex": [
       "\\begin{tabular}{r|lllllll}\n",
       " name & admin\\_code & country\\_code & long & long & start\\_time & end\\_time\\\\\n",
       "\\hline\n",
       "\t Hauppauge & NY        & US        & -73.20261 & 40.82565  & 22-20-39  & 22-20-40 \\\\\n",
       "\t New York  & NY        & US        & -74.00597 & 40.71427  & 22-20-40  & 22-20-43 \\\\\n",
       "\\end{tabular}\n"
      ],
      "text/markdown": [
       "\n",
       "name | admin_code | country_code | long | long | start_time | end_time | \n",
       "|---|---|\n",
       "| Hauppauge | NY        | US        | -73.20261 | 40.82565  | 22-20-39  | 22-20-40  | \n",
       "| New York  | NY        | US        | -74.00597 | 40.71427  | 22-20-40  | 22-20-43  | \n",
       "\n",
       "\n"
      ],
      "text/plain": [
       "  name      admin_code country_code long      long     start_time end_time\n",
       "1 Hauppauge NY         US           -73.20261 40.82565 22-20-39   22-20-40\n",
       "2 New York  NY         US           -74.00597 40.71427 22-20-40   22-20-43"
      ]
     },
     "metadata": {},
     "output_type": "display_data"
    }
   ],
   "source": [
    "network_locations.df\n",
    "# next steps are \n",
    "# 1 writing this out into an .Rdata list object\n",
    "# 2 developing a proximity algorithm (using latitude/longditute clusters)\n",
    "# --> cluster analysis, k-means clustering\n",
    "# in practice this means: run the code on a bigger sample, and test some cluster analysis methods on it. "
   ]
  },
  {
   "cell_type": "code",
   "execution_count": null,
   "metadata": {
    "collapsed": true
   },
   "outputs": [],
   "source": [
    "# LOOP WITH DOWNSAMPLING TO 50 % OF PREVIOUS SIZE \n",
    "\n",
    "for(i in 1:length(matches.ls)){\n",
    "    # recursively convert list elements to character vectors / downsample if too large\n",
    "    network_IDs <- matches.ls[[i]]\n",
    "    network_IDs <- sample(network_IDs, size=(length(network_IDs)/2), replace=FALSE)\n",
    "    if(length(network_IDs)>=700){\n",
    "        network_IDs <- sample(network_IDs, size=350, replace=FALSE)\n",
    "    }\n",
    "    # API limits test\n",
    "    apiCheckLocs(network_IDs)\n",
    "    # initialise empty vector in which locations will be stored\n",
    "    locations <- character(length(network_IDs))\n",
    "    for(j in 1:length(network_IDs)){\n",
    "        locations[j] <- getLocation(network_IDs[j])\n",
    "    }\n",
    "}\n"
   ]
  },
  {
   "cell_type": "code",
   "execution_count": null,
   "metadata": {
    "collapsed": true
   },
   "outputs": [],
   "source": [
    "# LOOP WITH DOWNSAMPLING TO n=90 (get locations for 10 users in one cycle)\n",
    "\n",
    "for(i in 1:length(matches.ls)){\n",
    "    # recursively convert list elements to character vectors / downsample if too large\n",
    "    network_IDs <- matches.ls[[i]]\n",
    "    if(length(network_IDs)>90){\n",
    "        network_IDs <- sample(network_IDs, size=90, replace=FALSE)\n",
    "    }\n",
    "    # API limits test\n",
    "    apiCheckLocs(network_IDs)\n",
    "    # initialise empty vector in which locations will be stored\n",
    "    locations <- character(length(network_IDs))\n",
    "    for(j in 1:length(network_IDs)){\n",
    "        locations[j] <- getLocation(network_IDs[j])\n",
    "    }\n",
    "}\n"
   ]
  },
  {
   "cell_type": "code",
   "execution_count": null,
   "metadata": {
    "collapsed": true
   },
   "outputs": [],
   "source": [
    "## REVISIT THIS IS ALSO OLD\n",
    "\n",
    "\n",
    "# re-order the match_frequencies.df so that the users with the smallest networks come first\n",
    "match_frequencies.df <- match_frequencies.df[order(match_frequencies.df$match_freq, decreasing = FALSE),]\n",
    "\n",
    "# initialise empty data.frame in which to store modal location estimates and auxiliary data\n",
    "\n",
    "loc_estimate.df <- data.frame(X = numeric(0),\n",
    "                              ID = numeric(0),\n",
    "                              handle = character(0),\n",
    "                              loc_est = character(0),\n",
    "                              start_time = character(0),\n",
    "                              end_time = character(0),\n",
    "                              match_freq = numeric(0),\n",
    "                              noloc_freq = numeric(0))\n",
    "\n",
    "# initialise empty list object in which to store the top 10 locations as found using\n",
    "# the net_estimate approach.\n",
    "\n",
    "top10_locs.ls <- list()\n",
    "\n",
    "# initialise new list that contains location percentages out of all locations in\n",
    "# a user's network\n",
    "\n",
    "loc_perc.ls <- list()"
   ]
  },
  {
   "cell_type": "code",
   "execution_count": null,
   "metadata": {
    "collapsed": true
   },
   "outputs": [],
   "source": [
    "# THE KEY LOOP --> revisit later!\n",
    "\n",
    "for(u in 1:10){\n",
    "  # identifies the X value (df-specific ID) so that the correct matchID vector is retrieved\n",
    "  # from the matches.ls list\n",
    "  pos1 <- match_frequencies.df$X[u]\n",
    "  matches <- unlist(matches.ls[pos1])\n",
    "  # exclude non-existing twitter accounts\n",
    "  if(is.na(match_frequencies.df$match_freq[u])){\n",
    "    next\n",
    "  }\n",
    "  # test if too long --> 900 is the API limit, so downsampling to 850 is necessary\n",
    "  match_freq <- length(matches)\n",
    "  if(match_freq>750){\n",
    "    match_freq <- 750\n",
    "    set.seed(1234) # to ensure reproducibility - not essential!\n",
    "    matches <- sample(matches, size = 750, replace = FALSE)\n",
    "  }\n",
    "  # this checks all API limits, prior to running the location estimate matching scripts\n",
    "  apiCheckLocs(match_freq)\n",
    "  # running both network functions and timestamping\n",
    "  start_time <- format(Sys.time(), \"%H-%M-%S\")\n",
    "  locs <- getLocations(matches)\n",
    "  # HERE we need a provision to check for the distribution of the top locations\n",
    "  # function -- locDistribution() !!!\n",
    "  loc_table.df <- locDistribution(locs)\n",
    "  loc_perc.ls <- c(loc_perc.ls, list(loc_table.df))\n",
    "  # write out top 10 locations\n",
    "  top_loc <- topLocations(locs) # gives out the top 10 locations as determind by the algorithm\n",
    "  top10_locs.ls <- c(top10_locs.ls, list(top_loc))\n",
    "  # end time\n",
    "  end_time <- format(Sys.time(), \"%H-%M-%S\")\n",
    "  # top location that is NOT \"NOLOCATION\"\n",
    "  # first - read out the number of \"nolocation\"\n",
    "  noloc_freq <- length(names(top_loc) == \"nolocation\")\n",
    "  # second - get rid of locs that are not \"nolocation\"\n",
    "  top_loc <- top_loc[names(top_loc) != \"nolocation\"]\n",
    "  # add to the data frame\n",
    "  newline <- data.frame(pos1, match_frequencies.df$ID[u], match_frequencies.df$handle[u], names(top_loc[1]), start_time, end_time, match_freq, noloc_freq)\n",
    "  names(newline) <- c(\"X\", \"ID\", \"handle\", \"loc_est\", \"start_time\", \"end_time\", \"match_freq\", \"noloc_freq\")\n",
    "  loc_estimate.df <- rbind(loc_estimate.df, newline)\n",
    "  rm(matches, locs, top_loc, newline, match_freq, noloc_freq)\n",
    "  # write out the df to csv\n",
    "  write.csv(loc_estimate.df, file =  paste0(\"matches_out/done/loc_estimate_it\", i, \".csv\"))\n",
    "  # save top locs list to an RData object\n",
    "  save(top10_locs.ls, file = paste0(\"matches_out/done/toplocs_list_it\", i, \".Rdata\"))\n",
    "  # save loc percentages\n",
    "  save(loc_perc.ls, file = paste0(\"matches_out/done/loc_perc_list_it\", i, \".Rdata\"))\n",
    "}"
   ]
  }
 ],
 "metadata": {
  "kernelspec": {
   "display_name": "R 3.3",
   "language": "R",
   "name": "ir33"
  },
  "language_info": {
   "codemirror_mode": "r",
   "file_extension": ".r",
   "mimetype": "text/x-r-source",
   "name": "R",
   "pygments_lexer": "r",
   "version": "3.3.3"
  }
 },
 "nbformat": 4,
 "nbformat_minor": 0
}
